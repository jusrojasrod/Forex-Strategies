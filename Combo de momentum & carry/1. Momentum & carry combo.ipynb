{
 "cells": [
  {
   "cell_type": "markdown",
   "id": "74a2b67a-53ad-4188-8b4c-52d4dac939c3",
   "metadata": {},
   "source": [
    "# Divisas : Combo de estrategias de Momento y Carry."
   ]
  },
  {
   "cell_type": "markdown",
   "id": "8276c737-e515-42ed-a953-b661de50a4a5",
   "metadata": {},
   "source": [
    "Se busca combinar la estrategia de momentum y la estrategía de carry. Una combinanción simple se basa en minimizar la varianza de la estrategía conjunta usando la matriz de covarianza muestral de los returnos historicos $R_1$ y $R_2$ de las dos estrategías. Para ello definimos primero:\n",
    "\n",
    "$$\n",
    "\\sigma_{1}^{2} = Var(R_{1}(t_s))\n",
    "$$\n",
    "$$\n",
    "\\sigma_{2}^{2} = Var(R_{2}(t_s))\n",
    "$$\n",
    "$$\n",
    "\\rho = Cor(R_{1}, R_{2})\n",
    "$$\n",
    "\n",
    "Se calcula el retorno combinado como la suma ponderada de los retornos de cada estrategía:\n",
    "\n",
    "$$\n",
    "R(t_s) = \\omega_1 R_1(t_s) + \\omega_2 R_2(t_s)\n",
    "$$\n",
    "\n",
    "Debe tenerse en cuenta que los pesos siempre cumplen la siguiente relación:  $\\omega_1 + \\omega_2 = 1$. Sus valores iniciales vienen dados como sigue:\n",
    "\n",
    "$$\n",
    "\\omega_1 = \\frac{\\sigma_{2}^{2} - \\sigma_{1} \\sigma_{2}\\rho}{\\sigma_{1}^{1} + \\sigma_{2}^{2} - 2 \\sigma_{1} \\sigma_{2} \\rho}\n",
    "$$\n",
    "\n",
    "$$\n",
    "\\omega_2 = \\frac{\\sigma_{1}^{2} - \\sigma_{1} \\sigma_{2}\\rho}{\\sigma_{1}^{1} + \\sigma_{2}^{2} - 2 \\sigma_{1} \\sigma_{2} \\rho}\n",
    "$$\n",
    "\n",
    "Entonces, se procesde a minimizar $Var(R(t_s))$ (varianza del retorno combinando).\n",
    "\n",
    "Para ambas estrategias (Momentum y Carry) calcularemos los retornos de la estrategia en un periodo de tiempo definido.\n"
   ]
  },
  {
   "cell_type": "code",
   "execution_count": 1,
   "id": "95d1a02d-568b-4d2a-be89-877f050f0933",
   "metadata": {},
   "outputs": [
    {
     "name": "stdout",
     "output_type": "stream",
     "text": [
      "Requirement already satisfied: pandas in c:\\users\\usuario\\anaconda3\\lib\\site-packages (2.0.3)\n",
      "Requirement already satisfied: numpy in c:\\users\\usuario\\anaconda3\\lib\\site-packages (1.24.3)\n",
      "Requirement already satisfied: yfinance in c:\\users\\usuario\\anaconda3\\lib\\site-packages (0.2.31)\n",
      "Requirement already satisfied: statsmodels in c:\\users\\usuario\\anaconda3\\lib\\site-packages (0.14.0)\n",
      "Collecting version_information\n",
      "  Downloading version_information-1.0.4.tar.gz (3.8 kB)\n",
      "  Preparing metadata (setup.py): started\n",
      "  Preparing metadata (setup.py): finished with status 'done'\n",
      "Requirement already satisfied: python-dateutil>=2.8.2 in c:\\users\\usuario\\anaconda3\\lib\\site-packages (from pandas) (2.8.2)\n",
      "Requirement already satisfied: pytz>=2020.1 in c:\\users\\usuario\\anaconda3\\lib\\site-packages (from pandas) (2023.3.post1)\n",
      "Requirement already satisfied: tzdata>=2022.1 in c:\\users\\usuario\\anaconda3\\lib\\site-packages (from pandas) (2023.3)\n",
      "Requirement already satisfied: requests>=2.31 in c:\\users\\usuario\\anaconda3\\lib\\site-packages (from yfinance) (2.31.0)\n",
      "Requirement already satisfied: multitasking>=0.0.7 in c:\\users\\usuario\\anaconda3\\lib\\site-packages (from yfinance) (0.0.11)\n",
      "Requirement already satisfied: lxml>=4.9.1 in c:\\users\\usuario\\anaconda3\\lib\\site-packages (from yfinance) (4.9.3)\n",
      "Requirement already satisfied: appdirs>=1.4.4 in c:\\users\\usuario\\anaconda3\\lib\\site-packages (from yfinance) (1.4.4)\n",
      "Requirement already satisfied: frozendict>=2.3.4 in c:\\users\\usuario\\anaconda3\\lib\\site-packages (from yfinance) (2.3.8)\n",
      "Requirement already satisfied: peewee>=3.16.2 in c:\\users\\usuario\\anaconda3\\lib\\site-packages (from yfinance) (3.17.0)\n",
      "Requirement already satisfied: beautifulsoup4>=4.11.1 in c:\\users\\usuario\\anaconda3\\lib\\site-packages (from yfinance) (4.12.2)\n",
      "Requirement already satisfied: html5lib>=1.1 in c:\\users\\usuario\\anaconda3\\lib\\site-packages (from yfinance) (1.1)\n",
      "Requirement already satisfied: scipy!=1.9.2,>=1.4 in c:\\users\\usuario\\anaconda3\\lib\\site-packages (from statsmodels) (1.11.1)\n",
      "Requirement already satisfied: patsy>=0.5.2 in c:\\users\\usuario\\anaconda3\\lib\\site-packages (from statsmodels) (0.5.3)\n",
      "Requirement already satisfied: packaging>=21.3 in c:\\users\\usuario\\anaconda3\\lib\\site-packages (from statsmodels) (23.1)\n",
      "Requirement already satisfied: soupsieve>1.2 in c:\\users\\usuario\\anaconda3\\lib\\site-packages (from beautifulsoup4>=4.11.1->yfinance) (2.4)\n",
      "Requirement already satisfied: six>=1.9 in c:\\users\\usuario\\anaconda3\\lib\\site-packages (from html5lib>=1.1->yfinance) (1.16.0)\n",
      "Requirement already satisfied: webencodings in c:\\users\\usuario\\anaconda3\\lib\\site-packages (from html5lib>=1.1->yfinance) (0.5.1)\n",
      "Requirement already satisfied: charset-normalizer<4,>=2 in c:\\users\\usuario\\anaconda3\\lib\\site-packages (from requests>=2.31->yfinance) (2.0.4)\n",
      "Requirement already satisfied: idna<4,>=2.5 in c:\\users\\usuario\\anaconda3\\lib\\site-packages (from requests>=2.31->yfinance) (3.4)\n",
      "Requirement already satisfied: urllib3<3,>=1.21.1 in c:\\users\\usuario\\anaconda3\\lib\\site-packages (from requests>=2.31->yfinance) (1.26.16)\n",
      "Requirement already satisfied: certifi>=2017.4.17 in c:\\users\\usuario\\anaconda3\\lib\\site-packages (from requests>=2.31->yfinance) (2023.7.22)\n",
      "Building wheels for collected packages: version_information\n",
      "  Building wheel for version_information (setup.py): started\n",
      "  Building wheel for version_information (setup.py): finished with status 'done'\n",
      "  Created wheel for version_information: filename=version_information-1.0.4-py3-none-any.whl size=3910 sha256=2bda7adf74cb369da1830bf75c5ac1584063c670f7c9560c1d894e11e44217ab\n",
      "  Stored in directory: c:\\users\\usuario\\appdata\\local\\pip\\cache\\wheels\\47\\7d\\72\\b26285eb636e3fb76a7a4a42caa93287b89e636ec21a6afe7f\n",
      "Successfully built version_information\n",
      "Installing collected packages: version_information\n",
      "Successfully installed version_information-1.0.4\n"
     ]
    }
   ],
   "source": [
    "%load_ext autoreload\n",
    "%autoreload 2\n",
    "\n",
    "# import modules\n",
    "\n",
    "\n",
    "try:\n",
    "    from statsmodels.tsa.filters.hp_filter import hpfilter\n",
    "\n",
    "    import pandas as pd\n",
    "    import numpy as np\n",
    "    import yfinance as yf\n",
    "    import version_information\n",
    "    \n",
    "except ModuleNotFoundError:\n",
    "    !pip install pandas numpy yfinance statsmodels version_information\n",
    "    \n",
    "finally:\n",
    "    from statsmodels.tsa.filters.hp_filter import hpfilter\n",
    "\n",
    "    import pandas as pd\n",
    "    import numpy as np\n",
    "    import yfinance as yf\n",
    "    import version_information"
   ]
  },
  {
   "cell_type": "markdown",
   "id": "3eb94257-ec1e-4e00-b072-8cfcc683d533",
   "metadata": {},
   "source": [
    "## Importar Forex Data"
   ]
  },
  {
   "cell_type": "markdown",
   "id": "87445068-29c5-4f80-9307-e58509ef9085",
   "metadata": {},
   "source": [
    "Las siguientes son las moendas con las cuales ejecutaremos las estrategias:\n",
    "\n",
    "|Simbolo | Divisa | rango\n",
    "| --- | --- | --- |\n",
    "EUR | Euro        | 1999-2017\n",
    "JPY | Yen Japones | 1972-2017\n",
    "GBP | Libra Esterlina | 1959-2013\n",
    "AUD | Dólar Australiano | 1969-2013\n",
    "CNY | Yuan Chino | 1990-2023\n",
    "INR | Rupia india | 1968-2022\n",
    "USD | Dólar americano | 1979-2021\n"
   ]
  },
  {
   "cell_type": "code",
   "execution_count": 2,
   "id": "f5eba2ff-77a8-48ff-8cc7-26736b60ef1e",
   "metadata": {},
   "outputs": [],
   "source": [
    "# El ticker puede variar dependiendo de la fuente de datos\n",
    "# tickers = [\"EURUSD=X\", \"JPY=X\", \"GBPUSD=X\", \"AUDUSD=X\", \"NZDUSD=X\", \"EURJPY=X\",\n",
    "#            \"GBPJPY=X\", \"EURGBP=X\", \"EURCAD=X\", \"EURSEK=X\", \"EURCHF=X\", \"EURHUF=X\",\n",
    "#            \"EURJPY=X\", \"CNY=X\", \"HKD=X\", \"SGD=X\", \"INR=X\", \"MXN=X\", \"PHP=X\",\n",
    "#            \"THB=X\", \"MYR=X\", \"ZAR=X\", \"RUB=X\"]\n",
    "\n",
    "tickers = [\"EURUSD=X\", \"JPY=X\", \"GBPUSD=X\",  \"AUDUSD=X\", \"CNY=X\", \"INR=X\"]"
   ]
  },
  {
   "cell_type": "code",
   "execution_count": 3,
   "id": "8f8967b1-ceb9-4da4-b18c-6339417e2095",
   "metadata": {},
   "outputs": [
    {
     "name": "stdout",
     "output_type": "stream",
     "text": [
      "[*********************100%%**********************]  6 of 6 completed\n"
     ]
    }
   ],
   "source": [
    "start_ = \"2006-05-01\"\n",
    "end_ = \"2013-02-01\"\n",
    "\n",
    "# traer 10 años de data mensual\n",
    "# data = yf.download(tickers, period=\"10y\", interval=\"1mo\")[\"Close\"]\n",
    "data = yf.download(tickers, start=start_, end=end_, interval=\"1mo\")[\"Close\"]\n",
    "\n",
    "\n",
    "# renombrar las columnas\n",
    "columns = [\"EUR\", \"JPY\", \"GBP\", \"AUD\", \"CNY\", \"INR\"]\n",
    "columns.sort()\n",
    "data.columns = columns"
   ]
  },
  {
   "cell_type": "code",
   "execution_count": 4,
   "id": "119e1114-36bb-4279-8eca-cc3ff487c777",
   "metadata": {
    "tags": []
   },
   "outputs": [
    {
     "data": {
      "text/html": [
       "<div>\n",
       "<style scoped>\n",
       "    .dataframe tbody tr th:only-of-type {\n",
       "        vertical-align: middle;\n",
       "    }\n",
       "\n",
       "    .dataframe tbody tr th {\n",
       "        vertical-align: top;\n",
       "    }\n",
       "\n",
       "    .dataframe thead th {\n",
       "        text-align: right;\n",
       "    }\n",
       "</style>\n",
       "<table border=\"1\" class=\"dataframe\">\n",
       "  <thead>\n",
       "    <tr style=\"text-align: right;\">\n",
       "      <th></th>\n",
       "      <th>AUD</th>\n",
       "      <th>CNY</th>\n",
       "      <th>EUR</th>\n",
       "      <th>GBP</th>\n",
       "      <th>INR</th>\n",
       "      <th>JPY</th>\n",
       "    </tr>\n",
       "    <tr>\n",
       "      <th>Date</th>\n",
       "      <th></th>\n",
       "      <th></th>\n",
       "      <th></th>\n",
       "      <th></th>\n",
       "      <th></th>\n",
       "      <th></th>\n",
       "    </tr>\n",
       "  </thead>\n",
       "  <tbody>\n",
       "    <tr>\n",
       "      <th>2006-05-01</th>\n",
       "      <td>NaN</td>\n",
       "      <td>8.0140</td>\n",
       "      <td>1.281608</td>\n",
       "      <td>1.871608</td>\n",
       "      <td>46.160000</td>\n",
       "      <td>112.529999</td>\n",
       "    </tr>\n",
       "    <tr>\n",
       "      <th>2006-06-01</th>\n",
       "      <td>0.742777</td>\n",
       "      <td>7.9825</td>\n",
       "      <td>1.278298</td>\n",
       "      <td>1.849010</td>\n",
       "      <td>45.805000</td>\n",
       "      <td>114.489998</td>\n",
       "    </tr>\n",
       "    <tr>\n",
       "      <th>2006-07-01</th>\n",
       "      <td>0.765873</td>\n",
       "      <td>7.9600</td>\n",
       "      <td>1.277400</td>\n",
       "      <td>1.868216</td>\n",
       "      <td>46.419998</td>\n",
       "      <td>114.510002</td>\n",
       "    </tr>\n",
       "    <tr>\n",
       "      <th>2006-08-01</th>\n",
       "      <td>0.763301</td>\n",
       "      <td>7.9449</td>\n",
       "      <td>1.280902</td>\n",
       "      <td>1.903094</td>\n",
       "      <td>46.476002</td>\n",
       "      <td>117.360001</td>\n",
       "    </tr>\n",
       "    <tr>\n",
       "      <th>2006-09-01</th>\n",
       "      <td>0.746491</td>\n",
       "      <td>7.8973</td>\n",
       "      <td>1.269100</td>\n",
       "      <td>1.871713</td>\n",
       "      <td>45.715000</td>\n",
       "      <td>118.029999</td>\n",
       "    </tr>\n",
       "    <tr>\n",
       "      <th>...</th>\n",
       "      <td>...</td>\n",
       "      <td>...</td>\n",
       "      <td>...</td>\n",
       "      <td>...</td>\n",
       "      <td>...</td>\n",
       "      <td>...</td>\n",
       "    </tr>\n",
       "    <tr>\n",
       "      <th>2012-09-01</th>\n",
       "      <td>1.035711</td>\n",
       "      <td>6.2847</td>\n",
       "      <td>1.284505</td>\n",
       "      <td>1.614518</td>\n",
       "      <td>52.848000</td>\n",
       "      <td>77.961998</td>\n",
       "    </tr>\n",
       "    <tr>\n",
       "      <th>2012-10-01</th>\n",
       "      <td>1.036602</td>\n",
       "      <td>6.2419</td>\n",
       "      <td>1.296260</td>\n",
       "      <td>1.607459</td>\n",
       "      <td>53.958000</td>\n",
       "      <td>79.683998</td>\n",
       "    </tr>\n",
       "    <tr>\n",
       "      <th>2012-11-01</th>\n",
       "      <td>1.042938</td>\n",
       "      <td>6.2314</td>\n",
       "      <td>1.297353</td>\n",
       "      <td>1.604107</td>\n",
       "      <td>54.838001</td>\n",
       "      <td>82.151001</td>\n",
       "    </tr>\n",
       "    <tr>\n",
       "      <th>2012-12-01</th>\n",
       "      <td>1.039199</td>\n",
       "      <td>6.2348</td>\n",
       "      <td>1.322769</td>\n",
       "      <td>1.616292</td>\n",
       "      <td>54.752998</td>\n",
       "      <td>85.959999</td>\n",
       "    </tr>\n",
       "    <tr>\n",
       "      <th>2013-01-01</th>\n",
       "      <td>1.041884</td>\n",
       "      <td>6.2195</td>\n",
       "      <td>1.356834</td>\n",
       "      <td>1.579779</td>\n",
       "      <td>53.303001</td>\n",
       "      <td>91.021004</td>\n",
       "    </tr>\n",
       "  </tbody>\n",
       "</table>\n",
       "<p>81 rows × 6 columns</p>\n",
       "</div>"
      ],
      "text/plain": [
       "                 AUD     CNY       EUR       GBP        INR         JPY\n",
       "Date                                                                   \n",
       "2006-05-01       NaN  8.0140  1.281608  1.871608  46.160000  112.529999\n",
       "2006-06-01  0.742777  7.9825  1.278298  1.849010  45.805000  114.489998\n",
       "2006-07-01  0.765873  7.9600  1.277400  1.868216  46.419998  114.510002\n",
       "2006-08-01  0.763301  7.9449  1.280902  1.903094  46.476002  117.360001\n",
       "2006-09-01  0.746491  7.8973  1.269100  1.871713  45.715000  118.029999\n",
       "...              ...     ...       ...       ...        ...         ...\n",
       "2012-09-01  1.035711  6.2847  1.284505  1.614518  52.848000   77.961998\n",
       "2012-10-01  1.036602  6.2419  1.296260  1.607459  53.958000   79.683998\n",
       "2012-11-01  1.042938  6.2314  1.297353  1.604107  54.838001   82.151001\n",
       "2012-12-01  1.039199  6.2348  1.322769  1.616292  54.752998   85.959999\n",
       "2013-01-01  1.041884  6.2195  1.356834  1.579779  53.303001   91.021004\n",
       "\n",
       "[81 rows x 6 columns]"
      ]
     },
     "execution_count": 4,
     "metadata": {},
     "output_type": "execute_result"
    }
   ],
   "source": [
    "data"
   ]
  },
  {
   "cell_type": "code",
   "execution_count": 5,
   "id": "9cd15b23-4ad7-460c-bec7-5bdf3bcd241a",
   "metadata": {},
   "outputs": [
    {
     "data": {
      "text/plain": [
       "(81, 6)"
      ]
     },
     "execution_count": 5,
     "metadata": {},
     "output_type": "execute_result"
    }
   ],
   "source": [
    "data.shape"
   ]
  },
  {
   "cell_type": "code",
   "execution_count": 6,
   "id": "07e68c1d-8f19-4dd5-a458-f2118284974e",
   "metadata": {},
   "outputs": [],
   "source": [
    "# calcular los retornos historicos de cada activo\n",
    "returns_df = data.pct_change()"
   ]
  },
  {
   "cell_type": "code",
   "execution_count": 7,
   "id": "33b67526-3c76-4655-926f-3f2c461f9aae",
   "metadata": {},
   "outputs": [
    {
     "data": {
      "text/html": [
       "<div>\n",
       "<style scoped>\n",
       "    .dataframe tbody tr th:only-of-type {\n",
       "        vertical-align: middle;\n",
       "    }\n",
       "\n",
       "    .dataframe tbody tr th {\n",
       "        vertical-align: top;\n",
       "    }\n",
       "\n",
       "    .dataframe thead th {\n",
       "        text-align: right;\n",
       "    }\n",
       "</style>\n",
       "<table border=\"1\" class=\"dataframe\">\n",
       "  <thead>\n",
       "    <tr style=\"text-align: right;\">\n",
       "      <th></th>\n",
       "      <th>AUD</th>\n",
       "      <th>CNY</th>\n",
       "      <th>EUR</th>\n",
       "      <th>GBP</th>\n",
       "      <th>INR</th>\n",
       "      <th>JPY</th>\n",
       "    </tr>\n",
       "    <tr>\n",
       "      <th>Date</th>\n",
       "      <th></th>\n",
       "      <th></th>\n",
       "      <th></th>\n",
       "      <th></th>\n",
       "      <th></th>\n",
       "      <th></th>\n",
       "    </tr>\n",
       "  </thead>\n",
       "  <tbody>\n",
       "    <tr>\n",
       "      <th>2012-09-01</th>\n",
       "      <td>0.007405</td>\n",
       "      <td>-0.010315</td>\n",
       "      <td>0.026705</td>\n",
       "      <td>0.022474</td>\n",
       "      <td>-0.049975</td>\n",
       "      <td>-0.007233</td>\n",
       "    </tr>\n",
       "    <tr>\n",
       "      <th>2012-10-01</th>\n",
       "      <td>0.000860</td>\n",
       "      <td>-0.006810</td>\n",
       "      <td>0.009152</td>\n",
       "      <td>-0.004372</td>\n",
       "      <td>0.021004</td>\n",
       "      <td>0.022088</td>\n",
       "    </tr>\n",
       "    <tr>\n",
       "      <th>2012-11-01</th>\n",
       "      <td>0.006112</td>\n",
       "      <td>-0.001682</td>\n",
       "      <td>0.000843</td>\n",
       "      <td>-0.002085</td>\n",
       "      <td>0.016309</td>\n",
       "      <td>0.030960</td>\n",
       "    </tr>\n",
       "    <tr>\n",
       "      <th>2012-12-01</th>\n",
       "      <td>-0.003585</td>\n",
       "      <td>0.000546</td>\n",
       "      <td>0.019590</td>\n",
       "      <td>0.007596</td>\n",
       "      <td>-0.001550</td>\n",
       "      <td>0.046366</td>\n",
       "    </tr>\n",
       "    <tr>\n",
       "      <th>2013-01-01</th>\n",
       "      <td>0.002584</td>\n",
       "      <td>-0.002454</td>\n",
       "      <td>0.025753</td>\n",
       "      <td>-0.022591</td>\n",
       "      <td>-0.026483</td>\n",
       "      <td>0.058876</td>\n",
       "    </tr>\n",
       "  </tbody>\n",
       "</table>\n",
       "</div>"
      ],
      "text/plain": [
       "                 AUD       CNY       EUR       GBP       INR       JPY\n",
       "Date                                                                  \n",
       "2012-09-01  0.007405 -0.010315  0.026705  0.022474 -0.049975 -0.007233\n",
       "2012-10-01  0.000860 -0.006810  0.009152 -0.004372  0.021004  0.022088\n",
       "2012-11-01  0.006112 -0.001682  0.000843 -0.002085  0.016309  0.030960\n",
       "2012-12-01 -0.003585  0.000546  0.019590  0.007596 -0.001550  0.046366\n",
       "2013-01-01  0.002584 -0.002454  0.025753 -0.022591 -0.026483  0.058876"
      ]
     },
     "execution_count": 7,
     "metadata": {},
     "output_type": "execute_result"
    }
   ],
   "source": [
    "returns_df.tail()"
   ]
  },
  {
   "cell_type": "markdown",
   "id": "68acdee9-99a3-42be-ad85-7bbcde0aeac7",
   "metadata": {},
   "source": [
    "---\n",
    "## Estrategia de Momento"
   ]
  },
  {
   "cell_type": "markdown",
   "id": "441f14f6-4351-4643-a1a5-913a4c37402f",
   "metadata": {},
   "source": [
    "### Aplicar el filtro HP"
   ]
  },
  {
   "cell_type": "code",
   "execution_count": 8,
   "id": "a0be0937-3cd9-415a-abc2-debc4872f118",
   "metadata": {},
   "outputs": [],
   "source": [
    "def hpFilter(col, lamb=14440):\n",
    "    data_cycle, data_trend = hpfilter(data[col], lamb=lamb)\n",
    "    \n",
    "    return data_trend"
   ]
  },
  {
   "cell_type": "code",
   "execution_count": 9,
   "id": "5f419ddc-281b-49fd-b909-a6fb8f9ba9ca",
   "metadata": {},
   "outputs": [],
   "source": [
    "# data.apply(hpFilter, axis=1)"
   ]
  },
  {
   "cell_type": "code",
   "execution_count": 10,
   "id": "711c5089-1d3c-4673-ba16-b41867648331",
   "metadata": {},
   "outputs": [],
   "source": [
    "trend = {}\n",
    "cycle = {}\n",
    "for col in data.columns:\n",
    "    data_cycle, data_trend = hpfilter(data[col], lamb=14400)\n",
    "    trend[col] = data_trend\n",
    "    cycle[col] = data_cycle\n",
    "    \n",
    "# convierte a un DataFrame el diccionario \"trend\"\n",
    "trend_df = pd.DataFrame(trend, index=data.index)"
   ]
  },
  {
   "cell_type": "code",
   "execution_count": 11,
   "id": "96f74e05-8212-4509-b97e-c46520fd0722",
   "metadata": {},
   "outputs": [
    {
     "data": {
      "text/html": [
       "<div>\n",
       "<style scoped>\n",
       "    .dataframe tbody tr th:only-of-type {\n",
       "        vertical-align: middle;\n",
       "    }\n",
       "\n",
       "    .dataframe tbody tr th {\n",
       "        vertical-align: top;\n",
       "    }\n",
       "\n",
       "    .dataframe thead th {\n",
       "        text-align: right;\n",
       "    }\n",
       "</style>\n",
       "<table border=\"1\" class=\"dataframe\">\n",
       "  <thead>\n",
       "    <tr style=\"text-align: right;\">\n",
       "      <th></th>\n",
       "      <th>AUD</th>\n",
       "      <th>CNY</th>\n",
       "      <th>EUR</th>\n",
       "      <th>GBP</th>\n",
       "      <th>INR</th>\n",
       "      <th>JPY</th>\n",
       "    </tr>\n",
       "    <tr>\n",
       "      <th>Date</th>\n",
       "      <th></th>\n",
       "      <th></th>\n",
       "      <th></th>\n",
       "      <th></th>\n",
       "      <th></th>\n",
       "      <th></th>\n",
       "    </tr>\n",
       "  </thead>\n",
       "  <tbody>\n",
       "    <tr>\n",
       "      <th>2006-05-01</th>\n",
       "      <td>NaN</td>\n",
       "      <td>8.004654</td>\n",
       "      <td>1.303574</td>\n",
       "      <td>1.999454</td>\n",
       "      <td>43.660567</td>\n",
       "      <td>121.287451</td>\n",
       "    </tr>\n",
       "    <tr>\n",
       "      <th>2006-06-01</th>\n",
       "      <td>NaN</td>\n",
       "      <td>7.966206</td>\n",
       "      <td>1.309609</td>\n",
       "      <td>1.994654</td>\n",
       "      <td>43.596737</td>\n",
       "      <td>120.718147</td>\n",
       "    </tr>\n",
       "    <tr>\n",
       "      <th>2006-07-01</th>\n",
       "      <td>NaN</td>\n",
       "      <td>7.927760</td>\n",
       "      <td>1.315642</td>\n",
       "      <td>1.989845</td>\n",
       "      <td>43.533080</td>\n",
       "      <td>120.148234</td>\n",
       "    </tr>\n",
       "    <tr>\n",
       "      <th>2006-08-01</th>\n",
       "      <td>NaN</td>\n",
       "      <td>7.889316</td>\n",
       "      <td>1.321670</td>\n",
       "      <td>1.985008</td>\n",
       "      <td>43.469924</td>\n",
       "      <td>119.576673</td>\n",
       "    </tr>\n",
       "    <tr>\n",
       "      <th>2006-09-01</th>\n",
       "      <td>NaN</td>\n",
       "      <td>7.850878</td>\n",
       "      <td>1.327686</td>\n",
       "      <td>1.980116</td>\n",
       "      <td>43.407796</td>\n",
       "      <td>119.002030</td>\n",
       "    </tr>\n",
       "    <tr>\n",
       "      <th>...</th>\n",
       "      <td>...</td>\n",
       "      <td>...</td>\n",
       "      <td>...</td>\n",
       "      <td>...</td>\n",
       "      <td>...</td>\n",
       "      <td>...</td>\n",
       "    </tr>\n",
       "    <tr>\n",
       "      <th>2012-09-01</th>\n",
       "      <td>NaN</td>\n",
       "      <td>6.264075</td>\n",
       "      <td>1.307075</td>\n",
       "      <td>1.584460</td>\n",
       "      <td>53.142364</td>\n",
       "      <td>79.075429</td>\n",
       "    </tr>\n",
       "    <tr>\n",
       "      <th>2012-10-01</th>\n",
       "      <td>NaN</td>\n",
       "      <td>6.249961</td>\n",
       "      <td>1.303883</td>\n",
       "      <td>1.585631</td>\n",
       "      <td>53.474401</td>\n",
       "      <td>78.997921</td>\n",
       "    </tr>\n",
       "    <tr>\n",
       "      <th>2012-11-01</th>\n",
       "      <td>NaN</td>\n",
       "      <td>6.235851</td>\n",
       "      <td>1.300708</td>\n",
       "      <td>1.586805</td>\n",
       "      <td>53.806352</td>\n",
       "      <td>78.924175</td>\n",
       "    </tr>\n",
       "    <tr>\n",
       "      <th>2012-12-01</th>\n",
       "      <td>NaN</td>\n",
       "      <td>6.221744</td>\n",
       "      <td>1.297543</td>\n",
       "      <td>1.587979</td>\n",
       "      <td>54.138183</td>\n",
       "      <td>78.852623</td>\n",
       "    </tr>\n",
       "    <tr>\n",
       "      <th>2013-01-01</th>\n",
       "      <td>NaN</td>\n",
       "      <td>6.207637</td>\n",
       "      <td>1.294383</td>\n",
       "      <td>1.589153</td>\n",
       "      <td>54.469933</td>\n",
       "      <td>78.781920</td>\n",
       "    </tr>\n",
       "  </tbody>\n",
       "</table>\n",
       "<p>81 rows × 6 columns</p>\n",
       "</div>"
      ],
      "text/plain": [
       "            AUD       CNY       EUR       GBP        INR         JPY\n",
       "Date                                                                \n",
       "2006-05-01  NaN  8.004654  1.303574  1.999454  43.660567  121.287451\n",
       "2006-06-01  NaN  7.966206  1.309609  1.994654  43.596737  120.718147\n",
       "2006-07-01  NaN  7.927760  1.315642  1.989845  43.533080  120.148234\n",
       "2006-08-01  NaN  7.889316  1.321670  1.985008  43.469924  119.576673\n",
       "2006-09-01  NaN  7.850878  1.327686  1.980116  43.407796  119.002030\n",
       "...         ...       ...       ...       ...        ...         ...\n",
       "2012-09-01  NaN  6.264075  1.307075  1.584460  53.142364   79.075429\n",
       "2012-10-01  NaN  6.249961  1.303883  1.585631  53.474401   78.997921\n",
       "2012-11-01  NaN  6.235851  1.300708  1.586805  53.806352   78.924175\n",
       "2012-12-01  NaN  6.221744  1.297543  1.587979  54.138183   78.852623\n",
       "2013-01-01  NaN  6.207637  1.294383  1.589153  54.469933   78.781920\n",
       "\n",
       "[81 rows x 6 columns]"
      ]
     },
     "execution_count": 11,
     "metadata": {},
     "output_type": "execute_result"
    }
   ],
   "source": [
    "trend_df"
   ]
  },
  {
   "cell_type": "code",
   "execution_count": 12,
   "id": "3a53b0a7-499d-4517-99e5-ba22edb5a942",
   "metadata": {
    "tags": []
   },
   "outputs": [
    {
     "data": {
      "text/plain": [
       "(81, 6)"
      ]
     },
     "execution_count": 12,
     "metadata": {},
     "output_type": "execute_result"
    }
   ],
   "source": [
    "trend_df.shape"
   ]
  },
  {
   "cell_type": "markdown",
   "id": "362b6de7-4b16-4091-a2fd-9e45a46d0b6d",
   "metadata": {},
   "source": [
    "### Calcular SMAs"
   ]
  },
  {
   "cell_type": "code",
   "execution_count": 13,
   "id": "d9022c85-a310-4c49-b078-603de32c1a3b",
   "metadata": {},
   "outputs": [],
   "source": [
    "short = 10\n",
    "long = 20\n",
    "sma1_df = trend_df.rolling(short).mean()                  # SMA corta\n",
    "sma2_df = trend_df.rolling(long).mean()                  # SMA larga\n",
    "# sma1_df.dropna(inplace=True)\n",
    "# sma2_df.dropna(inplace=True)"
   ]
  },
  {
   "cell_type": "code",
   "execution_count": 14,
   "id": "250cfb7e-368d-45d8-a19d-102de6823fb9",
   "metadata": {},
   "outputs": [
    {
     "name": "stdout",
     "output_type": "stream",
     "text": [
      "SMA1: 81 elementos\n",
      "SMA2: 81 elementos\n"
     ]
    }
   ],
   "source": [
    "print(f\"SMA1: {sma1_df.shape[0]} elementos\")\n",
    "print(f\"SMA2: {sma2_df.shape[0]} elementos\")"
   ]
  },
  {
   "cell_type": "markdown",
   "id": "16317729-a04f-4a63-b867-67a7d8ab0e0f",
   "metadata": {},
   "source": [
    "### Estrategia\n",
    "Ahora vamos a generar las señales de activación de la estrategia."
   ]
  },
  {
   "cell_type": "code",
   "execution_count": 15,
   "id": "71ff25db-e870-4ffd-8f8e-51cbb455bdaa",
   "metadata": {},
   "outputs": [],
   "source": [
    "def signal(sma_short_df, sma_long_df, max_window=None):\n",
    "    \"\"\"\n",
    "    Toma de desición de compra o venta en función de dos medias\n",
    "    moviles simples.\n",
    "    La temporalidad para SMA_short es menor que para SMA_long.\n",
    "    Parameters\n",
    "    ----------\n",
    "    sma_short_df: DataFrame\n",
    "        DataFrame containing SMAs values.\n",
    "    sma_long_df: DataFrame\n",
    "        DataFrame containing SMAs values.  \n",
    "    max_window: int, None(by default)\n",
    "        Número maximo de datos que comprenedaran una ventana \n",
    "        historica.\n",
    "    \n",
    "    Returns\n",
    "    -------\n",
    "    df: DataFrame\n",
    "        DataFrame populated with strategy signals.\n",
    "        \n",
    "    Notes\n",
    "    -----\n",
    "    1: Comprar.\n",
    "    -1: Vender.\n",
    "    0: Nada.\n",
    "    \"\"\"\n",
    "    signal = np.where(sma_short_df < sma_long_df, 1, 0)\n",
    "    signal = np.where(sma_short_df > sma_long_df, -1, signal)\n",
    "\n",
    "    df = pd.DataFrame(signal, index=sma_short_df.index, columns=sma_short_df.columns)\n",
    "    \n",
    "    return df.iloc[max_window:,:]"
   ]
  },
  {
   "cell_type": "code",
   "execution_count": 16,
   "id": "52518138-34d9-49a6-9a4f-cb74c0123a22",
   "metadata": {},
   "outputs": [
    {
     "data": {
      "text/html": [
       "<div>\n",
       "<style scoped>\n",
       "    .dataframe tbody tr th:only-of-type {\n",
       "        vertical-align: middle;\n",
       "    }\n",
       "\n",
       "    .dataframe tbody tr th {\n",
       "        vertical-align: top;\n",
       "    }\n",
       "\n",
       "    .dataframe thead th {\n",
       "        text-align: right;\n",
       "    }\n",
       "</style>\n",
       "<table border=\"1\" class=\"dataframe\">\n",
       "  <thead>\n",
       "    <tr style=\"text-align: right;\">\n",
       "      <th></th>\n",
       "      <th>AUD</th>\n",
       "      <th>CNY</th>\n",
       "      <th>EUR</th>\n",
       "      <th>GBP</th>\n",
       "      <th>INR</th>\n",
       "      <th>JPY</th>\n",
       "    </tr>\n",
       "    <tr>\n",
       "      <th>Date</th>\n",
       "      <th></th>\n",
       "      <th></th>\n",
       "      <th></th>\n",
       "      <th></th>\n",
       "      <th></th>\n",
       "      <th></th>\n",
       "    </tr>\n",
       "  </thead>\n",
       "  <tbody>\n",
       "    <tr>\n",
       "      <th>2012-09-01</th>\n",
       "      <td>0</td>\n",
       "      <td>1</td>\n",
       "      <td>1</td>\n",
       "      <td>-1</td>\n",
       "      <td>-1</td>\n",
       "      <td>1</td>\n",
       "    </tr>\n",
       "    <tr>\n",
       "      <th>2012-10-01</th>\n",
       "      <td>0</td>\n",
       "      <td>1</td>\n",
       "      <td>1</td>\n",
       "      <td>-1</td>\n",
       "      <td>-1</td>\n",
       "      <td>1</td>\n",
       "    </tr>\n",
       "    <tr>\n",
       "      <th>2012-11-01</th>\n",
       "      <td>0</td>\n",
       "      <td>1</td>\n",
       "      <td>1</td>\n",
       "      <td>-1</td>\n",
       "      <td>-1</td>\n",
       "      <td>1</td>\n",
       "    </tr>\n",
       "    <tr>\n",
       "      <th>2012-12-01</th>\n",
       "      <td>0</td>\n",
       "      <td>1</td>\n",
       "      <td>1</td>\n",
       "      <td>-1</td>\n",
       "      <td>-1</td>\n",
       "      <td>1</td>\n",
       "    </tr>\n",
       "    <tr>\n",
       "      <th>2013-01-01</th>\n",
       "      <td>0</td>\n",
       "      <td>1</td>\n",
       "      <td>1</td>\n",
       "      <td>-1</td>\n",
       "      <td>-1</td>\n",
       "      <td>1</td>\n",
       "    </tr>\n",
       "  </tbody>\n",
       "</table>\n",
       "</div>"
      ],
      "text/plain": [
       "            AUD  CNY  EUR  GBP  INR  JPY\n",
       "Date                                    \n",
       "2012-09-01    0    1    1   -1   -1    1\n",
       "2012-10-01    0    1    1   -1   -1    1\n",
       "2012-11-01    0    1    1   -1   -1    1\n",
       "2012-12-01    0    1    1   -1   -1    1\n",
       "2013-01-01    0    1    1   -1   -1    1"
      ]
     },
     "execution_count": 16,
     "metadata": {},
     "output_type": "execute_result"
    }
   ],
   "source": [
    "signal_mom = signal(sma1_df, sma2_df, max_window=long)\n",
    "signal_mom.tail()"
   ]
  },
  {
   "cell_type": "markdown",
   "id": "a0a88c1e-5f31-4fc9-85a3-79469c44ab1f",
   "metadata": {},
   "source": [
    "#### Retornos de la estrategia\n",
    "\n",
    "Calcularemos ahora los retornos historicos de la estrategia de momentum. Consideraremos que los retornos del portafolio estan dados por la siguiente expresión:\n",
    "\n",
    "\\begin{equation}\n",
    "    R_p = \\sum_{1=1}^{N} s_i w_i R_i\n",
    "\\end{equation}\n",
    "\n",
    "donde:\n",
    "- $R_i$: son los retornos de cada activo en el portafolio.\n",
    "- $w_i$: es la ponderación de cada elemento.\n",
    "- $s_i$: es la señal generada por la estrategia (Tomará los valores de 1, 0 o -1)."
   ]
  },
  {
   "cell_type": "code",
   "execution_count": 17,
   "id": "d474ef22-1684-46e4-a357-383e859b928c",
   "metadata": {},
   "outputs": [],
   "source": [
    "portafolioRet_df = signal_mom * returns_df\n",
    "portafolioRet_df.dropna(inplace=True)\n",
    "portafolioMom_df = portafolioRet_df.sum(axis=1)"
   ]
  },
  {
   "cell_type": "code",
   "execution_count": 18,
   "id": "d84d3237-3baf-4519-9db6-1ef64d099465",
   "metadata": {},
   "outputs": [
    {
     "data": {
      "text/plain": [
       "Date\n",
       "2008-01-01   -0.079266\n",
       "2008-02-01   -0.042107\n",
       "2008-03-01   -0.090775\n",
       "2008-04-01    0.035551\n",
       "2008-05-01   -0.034424\n",
       "                ...   \n",
       "2012-09-01    0.036658\n",
       "2012-10-01    0.007798\n",
       "2012-11-01    0.015897\n",
       "2012-12-01    0.060455\n",
       "2013-01-01    0.131248\n",
       "Freq: MS, Length: 61, dtype: float64"
      ]
     },
     "execution_count": 18,
     "metadata": {},
     "output_type": "execute_result"
    }
   ],
   "source": [
    "portafolioMom_df"
   ]
  },
  {
   "cell_type": "markdown",
   "id": "a0a7857f-cf45-4d15-9d64-dcb4428aaf17",
   "metadata": {},
   "source": [
    "---\n",
    "## Estrategia de Carry"
   ]
  },
  {
   "cell_type": "markdown",
   "id": "1f86f487-ea1f-4552-939b-d38f03e49986",
   "metadata": {},
   "source": [
    "### Cargar datos de ratas de interes"
   ]
  },
  {
   "cell_type": "code",
   "execution_count": 19,
   "id": "31781115-7b07-414d-be38-a7ae625ce99c",
   "metadata": {},
   "outputs": [
    {
     "data": {
      "text/plain": [
       "AUD    0.000000\n",
       "CNY   -0.158454\n",
       "EUR   -0.002892\n",
       "GBP   -0.216385\n",
       "INR   -0.300209\n",
       "JPY   -0.174491\n",
       "dtype: float64"
      ]
     },
     "execution_count": 19,
     "metadata": {},
     "output_type": "execute_result"
    }
   ],
   "source": [
    "portafolioRet_df.sum()"
   ]
  },
  {
   "cell_type": "code",
   "execution_count": 20,
   "id": "5e3c62e6-f529-4a4e-8009-7ed30ee2e759",
   "metadata": {},
   "outputs": [],
   "source": [
    "# cargar data de las tasas de interes historicas\n",
    "ir = pd.read_excel(\"tasasDeInteres.xlsx\", sheet_name=None)\n",
    "\n",
    "# Extraer los nombre de las hojas\n",
    "divisas = list(ir.keys())[:-1]"
   ]
  },
  {
   "cell_type": "code",
   "execution_count": 21,
   "id": "56c24c63-84bf-45af-a3aa-cd1c9bce2787",
   "metadata": {},
   "outputs": [],
   "source": [
    "# como los datos estan en hojas separadas en excel, las uniremos en un único dataframe\n",
    "finalInt_df = pd.DataFrame()\n",
    "for div in divisas:\n",
    "    # print(div)\n",
    "    ir[div] = ir[div].set_index(\"Date\")\n",
    "    finalInt_df = pd.concat([finalInt_df, ir[div]], axis=1)\n",
    "\n",
    "finalInt_df = finalInt_df.fillna(method=\"ffill\")\n",
    "finalInt_df.columns = divisas\n",
    "finalInt_df.drop([\"MXN\"], axis=1, inplace=True)\n",
    "finalInt_df.dropna(inplace=True)"
   ]
  },
  {
   "cell_type": "code",
   "execution_count": 22,
   "id": "5e4e4d31-b229-4ac8-b8c8-d2b1c4f5da45",
   "metadata": {},
   "outputs": [],
   "source": [
    "# empalmar la serie de tiempo con la definida al principio\n",
    "finalInt_df = finalInt_df.loc[start_ : end_]"
   ]
  },
  {
   "cell_type": "code",
   "execution_count": 23,
   "id": "5cd435cc-60b7-4dfb-9900-99bd94bbc0de",
   "metadata": {},
   "outputs": [
    {
     "data": {
      "text/plain": [
       "<Axes: xlabel='Date'>"
      ]
     },
     "execution_count": 23,
     "metadata": {},
     "output_type": "execute_result"
    },
    {
     "data": {
      "image/png": "[encoded data removed]",
      "text/plain": [
       "<Figure size 1200x500 with 1 Axes>"
      ]
     },
     "metadata": {},
     "output_type": "display_data"
    }
   ],
   "source": [
    "# tomar hastra el minimo máximo de datos cargados (ver tabla 1)\n",
    "finalInt_df.loc[:\"2013-01-01\"].plot(figsize=(12,5))"
   ]
  },
  {
   "cell_type": "markdown",
   "id": "55d956f9-7c75-4d8d-89c8-6e5bc4a0f4f0",
   "metadata": {
    "tags": []
   },
   "source": [
    "### Descuento a plazo D(t, T)\n",
    "\n",
    "Recordemos que el descuento a plazo se define como\n",
    "\n",
    "$$\n",
    "D(t, T) \\approx r_f - r_d\n",
    "$$\n",
    "\n",
    "Donde $r_f$ es la tasa de interés de la moneda extrangera y $r_d$ es la tasa de interés de la la moneda doméstica."
   ]
  },
  {
   "cell_type": "code",
   "execution_count": 24,
   "id": "7b29e312-14dd-448f-b71b-821b22ba8ba7",
   "metadata": {
    "tags": []
   },
   "outputs": [],
   "source": [
    "# En este caso el dolar (USD) será la moneda doméstica. Tomamos solo las monedas extrangeras.\n",
    "foreing_df = finalInt_df.iloc[:, :-1]\n",
    "domestic_df = finalInt_df.iloc[:, -1]"
   ]
  },
  {
   "cell_type": "code",
   "execution_count": 25,
   "id": "6dfe9f7c-3361-4219-a53f-6baa172cc01f",
   "metadata": {
    "tags": []
   },
   "outputs": [
    {
     "data": {
      "text/html": [
       "<div>\n",
       "<style scoped>\n",
       "    .dataframe tbody tr th:only-of-type {\n",
       "        vertical-align: middle;\n",
       "    }\n",
       "\n",
       "    .dataframe tbody tr th {\n",
       "        vertical-align: top;\n",
       "    }\n",
       "\n",
       "    .dataframe thead th {\n",
       "        text-align: right;\n",
       "    }\n",
       "</style>\n",
       "<table border=\"1\" class=\"dataframe\">\n",
       "  <thead>\n",
       "    <tr style=\"text-align: right;\">\n",
       "      <th></th>\n",
       "      <th>EUR</th>\n",
       "      <th>JPY</th>\n",
       "      <th>GBP</th>\n",
       "      <th>AUD</th>\n",
       "      <th>CNY</th>\n",
       "      <th>INR</th>\n",
       "    </tr>\n",
       "    <tr>\n",
       "      <th>Date</th>\n",
       "      <th></th>\n",
       "      <th></th>\n",
       "      <th></th>\n",
       "      <th></th>\n",
       "      <th></th>\n",
       "      <th></th>\n",
       "    </tr>\n",
       "  </thead>\n",
       "  <tbody>\n",
       "    <tr>\n",
       "      <th>2006-05-01</th>\n",
       "      <td>3.75</td>\n",
       "      <td>0.1</td>\n",
       "      <td>4.50</td>\n",
       "      <td>5.728261</td>\n",
       "      <td>3.33</td>\n",
       "      <td>6.0</td>\n",
       "    </tr>\n",
       "    <tr>\n",
       "      <th>2006-06-01</th>\n",
       "      <td>3.75</td>\n",
       "      <td>0.1</td>\n",
       "      <td>4.50</td>\n",
       "      <td>5.750000</td>\n",
       "      <td>3.33</td>\n",
       "      <td>6.0</td>\n",
       "    </tr>\n",
       "    <tr>\n",
       "      <th>2006-07-01</th>\n",
       "      <td>4.25</td>\n",
       "      <td>0.4</td>\n",
       "      <td>4.50</td>\n",
       "      <td>5.750000</td>\n",
       "      <td>3.33</td>\n",
       "      <td>6.0</td>\n",
       "    </tr>\n",
       "    <tr>\n",
       "      <th>2006-08-01</th>\n",
       "      <td>4.25</td>\n",
       "      <td>0.4</td>\n",
       "      <td>4.75</td>\n",
       "      <td>5.989130</td>\n",
       "      <td>3.33</td>\n",
       "      <td>6.0</td>\n",
       "    </tr>\n",
       "    <tr>\n",
       "      <th>2006-09-01</th>\n",
       "      <td>4.25</td>\n",
       "      <td>0.4</td>\n",
       "      <td>4.75</td>\n",
       "      <td>6.000000</td>\n",
       "      <td>3.33</td>\n",
       "      <td>6.0</td>\n",
       "    </tr>\n",
       "  </tbody>\n",
       "</table>\n",
       "</div>"
      ],
      "text/plain": [
       "             EUR  JPY   GBP       AUD   CNY  INR\n",
       "Date                                            \n",
       "2006-05-01  3.75  0.1  4.50  5.728261  3.33  6.0\n",
       "2006-06-01  3.75  0.1  4.50  5.750000  3.33  6.0\n",
       "2006-07-01  4.25  0.4  4.50  5.750000  3.33  6.0\n",
       "2006-08-01  4.25  0.4  4.75  5.989130  3.33  6.0\n",
       "2006-09-01  4.25  0.4  4.75  6.000000  3.33  6.0"
      ]
     },
     "execution_count": 25,
     "metadata": {},
     "output_type": "execute_result"
    }
   ],
   "source": [
    "foreing_df.head()"
   ]
  },
  {
   "cell_type": "code",
   "execution_count": 26,
   "id": "4e94e46f-8071-48be-9619-330f9bfd127b",
   "metadata": {
    "tags": []
   },
   "outputs": [
    {
     "data": {
      "text/plain": [
       "Date\n",
       "2006-05-01    6.00\n",
       "2006-06-01    6.25\n",
       "2006-07-01    6.25\n",
       "2006-08-01    6.25\n",
       "2006-09-01    6.25\n",
       "              ... \n",
       "2012-10-01    0.75\n",
       "2012-11-01    0.75\n",
       "2012-12-01    0.75\n",
       "2013-01-01    0.75\n",
       "2013-02-01    0.75\n",
       "Freq: MS, Name: USD, Length: 82, dtype: float64"
      ]
     },
     "execution_count": 26,
     "metadata": {},
     "output_type": "execute_result"
    }
   ],
   "source": [
    "domestic_df"
   ]
  },
  {
   "cell_type": "code",
   "execution_count": 27,
   "id": "7bd25925-a633-4741-8d0c-a353d4f304e3",
   "metadata": {
    "tags": []
   },
   "outputs": [],
   "source": [
    "des_plazo = pd.DataFrame(foreing_df.values - domestic_df.values.reshape(domestic_df.shape[0],1),\n",
    "                        index=foreing_df.index, columns=foreing_df.columns)"
   ]
  },
  {
   "cell_type": "code",
   "execution_count": 28,
   "id": "83d3d634-419d-4f41-9ae0-8bf9a9688f0d",
   "metadata": {
    "tags": []
   },
   "outputs": [
    {
     "data": {
      "text/html": [
       "<div>\n",
       "<style scoped>\n",
       "    .dataframe tbody tr th:only-of-type {\n",
       "        vertical-align: middle;\n",
       "    }\n",
       "\n",
       "    .dataframe tbody tr th {\n",
       "        vertical-align: top;\n",
       "    }\n",
       "\n",
       "    .dataframe thead th {\n",
       "        text-align: right;\n",
       "    }\n",
       "</style>\n",
       "<table border=\"1\" class=\"dataframe\">\n",
       "  <thead>\n",
       "    <tr style=\"text-align: right;\">\n",
       "      <th></th>\n",
       "      <th>EUR</th>\n",
       "      <th>JPY</th>\n",
       "      <th>GBP</th>\n",
       "      <th>AUD</th>\n",
       "      <th>CNY</th>\n",
       "      <th>INR</th>\n",
       "    </tr>\n",
       "    <tr>\n",
       "      <th>Date</th>\n",
       "      <th></th>\n",
       "      <th></th>\n",
       "      <th></th>\n",
       "      <th></th>\n",
       "      <th></th>\n",
       "      <th></th>\n",
       "    </tr>\n",
       "  </thead>\n",
       "  <tbody>\n",
       "    <tr>\n",
       "      <th>2006-05-01</th>\n",
       "      <td>-2.25</td>\n",
       "      <td>-5.90</td>\n",
       "      <td>-1.50</td>\n",
       "      <td>-0.271739</td>\n",
       "      <td>-2.67</td>\n",
       "      <td>0.00</td>\n",
       "    </tr>\n",
       "    <tr>\n",
       "      <th>2006-06-01</th>\n",
       "      <td>-2.50</td>\n",
       "      <td>-6.15</td>\n",
       "      <td>-1.75</td>\n",
       "      <td>-0.500000</td>\n",
       "      <td>-2.92</td>\n",
       "      <td>-0.25</td>\n",
       "    </tr>\n",
       "    <tr>\n",
       "      <th>2006-07-01</th>\n",
       "      <td>-2.00</td>\n",
       "      <td>-5.85</td>\n",
       "      <td>-1.75</td>\n",
       "      <td>-0.500000</td>\n",
       "      <td>-2.92</td>\n",
       "      <td>-0.25</td>\n",
       "    </tr>\n",
       "    <tr>\n",
       "      <th>2006-08-01</th>\n",
       "      <td>-2.00</td>\n",
       "      <td>-5.85</td>\n",
       "      <td>-1.50</td>\n",
       "      <td>-0.260870</td>\n",
       "      <td>-2.92</td>\n",
       "      <td>-0.25</td>\n",
       "    </tr>\n",
       "    <tr>\n",
       "      <th>2006-09-01</th>\n",
       "      <td>-2.00</td>\n",
       "      <td>-5.85</td>\n",
       "      <td>-1.50</td>\n",
       "      <td>-0.250000</td>\n",
       "      <td>-2.92</td>\n",
       "      <td>-0.25</td>\n",
       "    </tr>\n",
       "  </tbody>\n",
       "</table>\n",
       "</div>"
      ],
      "text/plain": [
       "             EUR   JPY   GBP       AUD   CNY   INR\n",
       "Date                                              \n",
       "2006-05-01 -2.25 -5.90 -1.50 -0.271739 -2.67  0.00\n",
       "2006-06-01 -2.50 -6.15 -1.75 -0.500000 -2.92 -0.25\n",
       "2006-07-01 -2.00 -5.85 -1.75 -0.500000 -2.92 -0.25\n",
       "2006-08-01 -2.00 -5.85 -1.50 -0.260870 -2.92 -0.25\n",
       "2006-09-01 -2.00 -5.85 -1.50 -0.250000 -2.92 -0.25"
      ]
     },
     "execution_count": 28,
     "metadata": {},
     "output_type": "execute_result"
    }
   ],
   "source": [
    "des_plazo.head()"
   ]
  },
  {
   "cell_type": "code",
   "execution_count": 29,
   "id": "f58ed380-7682-4075-8f55-06a771080e5c",
   "metadata": {
    "tags": []
   },
   "outputs": [],
   "source": [
    "def signalCarry(df):\n",
    "    \"\"\"\n",
    "    D > 0: Comprar (1)\n",
    "    D < 0: Vender (-1)\n",
    "    \"\"\"\n",
    "    signal = np.where(df > 0, 1, 0)\n",
    "    signal = np.where(df < 0, -1, signal)\n",
    "    \n",
    "    return pd.DataFrame(signal, index=df.index, columns=df.columns)"
   ]
  },
  {
   "cell_type": "code",
   "execution_count": 30,
   "id": "9b96b876-df56-4c17-b814-720c907c906b",
   "metadata": {
    "tags": []
   },
   "outputs": [],
   "source": [
    "signal_carry = signalCarry(des_plazo)\n",
    "col = signal_carry.columns.to_list()\n",
    "col.sort()\n",
    "signal_carry = signal_carry[col]"
   ]
  },
  {
   "cell_type": "code",
   "execution_count": 31,
   "id": "71d868fc-9a04-421b-b120-9e04bae57221",
   "metadata": {
    "tags": []
   },
   "outputs": [
    {
     "data": {
      "text/html": [
       "<div>\n",
       "<style scoped>\n",
       "    .dataframe tbody tr th:only-of-type {\n",
       "        vertical-align: middle;\n",
       "    }\n",
       "\n",
       "    .dataframe tbody tr th {\n",
       "        vertical-align: top;\n",
       "    }\n",
       "\n",
       "    .dataframe thead th {\n",
       "        text-align: right;\n",
       "    }\n",
       "</style>\n",
       "<table border=\"1\" class=\"dataframe\">\n",
       "  <thead>\n",
       "    <tr style=\"text-align: right;\">\n",
       "      <th></th>\n",
       "      <th>AUD</th>\n",
       "      <th>CNY</th>\n",
       "      <th>EUR</th>\n",
       "      <th>GBP</th>\n",
       "      <th>INR</th>\n",
       "      <th>JPY</th>\n",
       "    </tr>\n",
       "    <tr>\n",
       "      <th>Date</th>\n",
       "      <th></th>\n",
       "      <th></th>\n",
       "      <th></th>\n",
       "      <th></th>\n",
       "      <th></th>\n",
       "      <th></th>\n",
       "    </tr>\n",
       "  </thead>\n",
       "  <tbody>\n",
       "    <tr>\n",
       "      <th>2006-05-01</th>\n",
       "      <td>-1</td>\n",
       "      <td>-1</td>\n",
       "      <td>-1</td>\n",
       "      <td>-1</td>\n",
       "      <td>0</td>\n",
       "      <td>-1</td>\n",
       "    </tr>\n",
       "    <tr>\n",
       "      <th>2006-06-01</th>\n",
       "      <td>-1</td>\n",
       "      <td>-1</td>\n",
       "      <td>-1</td>\n",
       "      <td>-1</td>\n",
       "      <td>-1</td>\n",
       "      <td>-1</td>\n",
       "    </tr>\n",
       "    <tr>\n",
       "      <th>2006-07-01</th>\n",
       "      <td>-1</td>\n",
       "      <td>-1</td>\n",
       "      <td>-1</td>\n",
       "      <td>-1</td>\n",
       "      <td>-1</td>\n",
       "      <td>-1</td>\n",
       "    </tr>\n",
       "    <tr>\n",
       "      <th>2006-08-01</th>\n",
       "      <td>-1</td>\n",
       "      <td>-1</td>\n",
       "      <td>-1</td>\n",
       "      <td>-1</td>\n",
       "      <td>-1</td>\n",
       "      <td>-1</td>\n",
       "    </tr>\n",
       "    <tr>\n",
       "      <th>2006-09-01</th>\n",
       "      <td>-1</td>\n",
       "      <td>-1</td>\n",
       "      <td>-1</td>\n",
       "      <td>-1</td>\n",
       "      <td>-1</td>\n",
       "      <td>-1</td>\n",
       "    </tr>\n",
       "    <tr>\n",
       "      <th>...</th>\n",
       "      <td>...</td>\n",
       "      <td>...</td>\n",
       "      <td>...</td>\n",
       "      <td>...</td>\n",
       "      <td>...</td>\n",
       "      <td>...</td>\n",
       "    </tr>\n",
       "    <tr>\n",
       "      <th>2012-10-01</th>\n",
       "      <td>1</td>\n",
       "      <td>1</td>\n",
       "      <td>1</td>\n",
       "      <td>-1</td>\n",
       "      <td>1</td>\n",
       "      <td>-1</td>\n",
       "    </tr>\n",
       "    <tr>\n",
       "      <th>2012-11-01</th>\n",
       "      <td>1</td>\n",
       "      <td>1</td>\n",
       "      <td>1</td>\n",
       "      <td>-1</td>\n",
       "      <td>1</td>\n",
       "      <td>-1</td>\n",
       "    </tr>\n",
       "    <tr>\n",
       "      <th>2012-12-01</th>\n",
       "      <td>1</td>\n",
       "      <td>1</td>\n",
       "      <td>1</td>\n",
       "      <td>-1</td>\n",
       "      <td>1</td>\n",
       "      <td>-1</td>\n",
       "    </tr>\n",
       "    <tr>\n",
       "      <th>2013-01-01</th>\n",
       "      <td>1</td>\n",
       "      <td>1</td>\n",
       "      <td>1</td>\n",
       "      <td>-1</td>\n",
       "      <td>1</td>\n",
       "      <td>-1</td>\n",
       "    </tr>\n",
       "    <tr>\n",
       "      <th>2013-02-01</th>\n",
       "      <td>1</td>\n",
       "      <td>1</td>\n",
       "      <td>1</td>\n",
       "      <td>-1</td>\n",
       "      <td>1</td>\n",
       "      <td>-1</td>\n",
       "    </tr>\n",
       "  </tbody>\n",
       "</table>\n",
       "<p>82 rows × 6 columns</p>\n",
       "</div>"
      ],
      "text/plain": [
       "            AUD  CNY  EUR  GBP  INR  JPY\n",
       "Date                                    \n",
       "2006-05-01   -1   -1   -1   -1    0   -1\n",
       "2006-06-01   -1   -1   -1   -1   -1   -1\n",
       "2006-07-01   -1   -1   -1   -1   -1   -1\n",
       "2006-08-01   -1   -1   -1   -1   -1   -1\n",
       "2006-09-01   -1   -1   -1   -1   -1   -1\n",
       "...         ...  ...  ...  ...  ...  ...\n",
       "2012-10-01    1    1    1   -1    1   -1\n",
       "2012-11-01    1    1    1   -1    1   -1\n",
       "2012-12-01    1    1    1   -1    1   -1\n",
       "2013-01-01    1    1    1   -1    1   -1\n",
       "2013-02-01    1    1    1   -1    1   -1\n",
       "\n",
       "[82 rows x 6 columns]"
      ]
     },
     "execution_count": 31,
     "metadata": {},
     "output_type": "execute_result"
    }
   ],
   "source": [
    "signal_carry"
   ]
  },
  {
   "cell_type": "markdown",
   "id": "75aac997-1490-4272-9f4a-98e8cbad9fef",
   "metadata": {},
   "source": [
    "### Retornos de la estrategia\n",
    "\n",
    "Se calculan de la misma manera que con la estrategia de Momentum.\n",
    "\n",
    "\\begin{equation}\n",
    "    R_p = \\sum_{1=1}^{N} s_i w_i R_i\n",
    "\\end{equation}\n"
   ]
  },
  {
   "cell_type": "code",
   "execution_count": 32,
   "id": "37fd8ba2-ad2b-4e5c-83e4-86d74113082f",
   "metadata": {
    "tags": []
   },
   "outputs": [],
   "source": [
    "portfolioCarry = signal_carry * returns_df\n",
    "portfolioCarry_ret = portfolioCarry.sum(axis=1)"
   ]
  },
  {
   "cell_type": "code",
   "execution_count": 33,
   "id": "a8a4b82b-9d10-4c96-82f1-48ab18a753ba",
   "metadata": {
    "tags": []
   },
   "outputs": [
    {
     "data": {
      "text/plain": [
       "Date\n",
       "2006-05-01    0.000000\n",
       "2006-06-01    0.008860\n",
       "2006-07-01   -0.051562\n",
       "2006-08-01   -0.042250\n",
       "2006-09-01    0.064381\n",
       "                ...   \n",
       "2012-10-01    0.006490\n",
       "2012-11-01   -0.007293\n",
       "2012-12-01   -0.038962\n",
       "2013-01-01   -0.036885\n",
       "2013-02-01    0.000000\n",
       "Freq: MS, Length: 82, dtype: float64"
      ]
     },
     "execution_count": 33,
     "metadata": {},
     "output_type": "execute_result"
    }
   ],
   "source": [
    "portfolioCarry_ret"
   ]
  },
  {
   "cell_type": "markdown",
   "id": "d1652622-e45c-4f63-9755-1a4be9565b04",
   "metadata": {
    "tags": []
   },
   "source": [
    "---\n",
    "## Estrategia: Combo de momentum & carry\n",
    "\n",
    "Para ejecutar la estrategia de combo de Momentum y Carry juntaremos en un único dataframe los retornos de ambos portafolios (momentum y carry)."
   ]
  },
  {
   "cell_type": "code",
   "execution_count": 34,
   "id": "a6e464ed-ff2a-4fee-acf6-dc0574335dbd",
   "metadata": {
    "tags": []
   },
   "outputs": [],
   "source": [
    "combo_df = pd.concat([portafolioMom_df, portfolioCarry_ret], axis=1)\n",
    "combo_df.dropna(inplace=True)\n",
    "combo_df.columns = [\"Momentum\", \"Carry\"]"
   ]
  },
  {
   "cell_type": "code",
   "execution_count": 35,
   "id": "87b2f7a0-9d4f-442c-8aa3-3cd86ed87985",
   "metadata": {
    "tags": []
   },
   "outputs": [
    {
     "data": {
      "text/html": [
       "<div>\n",
       "<style scoped>\n",
       "    .dataframe tbody tr th:only-of-type {\n",
       "        vertical-align: middle;\n",
       "    }\n",
       "\n",
       "    .dataframe tbody tr th {\n",
       "        vertical-align: top;\n",
       "    }\n",
       "\n",
       "    .dataframe thead th {\n",
       "        text-align: right;\n",
       "    }\n",
       "</style>\n",
       "<table border=\"1\" class=\"dataframe\">\n",
       "  <thead>\n",
       "    <tr style=\"text-align: right;\">\n",
       "      <th></th>\n",
       "      <th>Momentum</th>\n",
       "      <th>Carry</th>\n",
       "    </tr>\n",
       "    <tr>\n",
       "      <th>Date</th>\n",
       "      <th></th>\n",
       "      <th></th>\n",
       "    </tr>\n",
       "  </thead>\n",
       "  <tbody>\n",
       "    <tr>\n",
       "      <th>2008-01-01</th>\n",
       "      <td>-0.079266</td>\n",
       "      <td>0.077775</td>\n",
       "    </tr>\n",
       "    <tr>\n",
       "      <th>2008-02-01</th>\n",
       "      <td>-0.042107</td>\n",
       "      <td>0.086894</td>\n",
       "    </tr>\n",
       "    <tr>\n",
       "      <th>2008-03-01</th>\n",
       "      <td>-0.090775</td>\n",
       "      <td>0.042192</td>\n",
       "    </tr>\n",
       "    <tr>\n",
       "      <th>2008-04-01</th>\n",
       "      <td>0.035551</td>\n",
       "      <td>-0.006011</td>\n",
       "    </tr>\n",
       "    <tr>\n",
       "      <th>2008-05-01</th>\n",
       "      <td>-0.034424</td>\n",
       "      <td>0.025405</td>\n",
       "    </tr>\n",
       "    <tr>\n",
       "      <th>...</th>\n",
       "      <td>...</td>\n",
       "      <td>...</td>\n",
       "    </tr>\n",
       "    <tr>\n",
       "      <th>2012-09-01</th>\n",
       "      <td>0.036658</td>\n",
       "      <td>-0.041420</td>\n",
       "    </tr>\n",
       "    <tr>\n",
       "      <th>2012-10-01</th>\n",
       "      <td>0.007798</td>\n",
       "      <td>0.006490</td>\n",
       "    </tr>\n",
       "    <tr>\n",
       "      <th>2012-11-01</th>\n",
       "      <td>0.015897</td>\n",
       "      <td>-0.007293</td>\n",
       "    </tr>\n",
       "    <tr>\n",
       "      <th>2012-12-01</th>\n",
       "      <td>0.060455</td>\n",
       "      <td>-0.038962</td>\n",
       "    </tr>\n",
       "    <tr>\n",
       "      <th>2013-01-01</th>\n",
       "      <td>0.131248</td>\n",
       "      <td>-0.036885</td>\n",
       "    </tr>\n",
       "  </tbody>\n",
       "</table>\n",
       "<p>61 rows × 2 columns</p>\n",
       "</div>"
      ],
      "text/plain": [
       "            Momentum     Carry\n",
       "Date                          \n",
       "2008-01-01 -0.079266  0.077775\n",
       "2008-02-01 -0.042107  0.086894\n",
       "2008-03-01 -0.090775  0.042192\n",
       "2008-04-01  0.035551 -0.006011\n",
       "2008-05-01 -0.034424  0.025405\n",
       "...              ...       ...\n",
       "2012-09-01  0.036658 -0.041420\n",
       "2012-10-01  0.007798  0.006490\n",
       "2012-11-01  0.015897 -0.007293\n",
       "2012-12-01  0.060455 -0.038962\n",
       "2013-01-01  0.131248 -0.036885\n",
       "\n",
       "[61 rows x 2 columns]"
      ]
     },
     "execution_count": 35,
     "metadata": {},
     "output_type": "execute_result"
    }
   ],
   "source": [
    "combo_df"
   ]
  },
  {
   "cell_type": "markdown",
   "id": "1cf1560d-9a34-4023-b716-076a6e95391d",
   "metadata": {
    "tags": []
   },
   "source": [
    "### Desviaciones estándar"
   ]
  },
  {
   "cell_type": "code",
   "execution_count": 36,
   "id": "4d15566e-6033-4d90-b8d9-da400a0df3ad",
   "metadata": {
    "tags": []
   },
   "outputs": [
    {
     "data": {
      "text/plain": [
       "Momentum    0.071328\n",
       "Carry       0.075378\n",
       "dtype: float64"
      ]
     },
     "execution_count": 36,
     "metadata": {},
     "output_type": "execute_result"
    }
   ],
   "source": [
    "std_ = combo_df.std()\n",
    "std_"
   ]
  },
  {
   "cell_type": "markdown",
   "id": "9156f41e-164e-4e59-abde-763561b776aa",
   "metadata": {
    "tags": []
   },
   "source": [
    "### Ponderaciones"
   ]
  },
  {
   "cell_type": "code",
   "execution_count": 37,
   "id": "8b954089-770f-4b30-a16a-2b432943b721",
   "metadata": {
    "tags": []
   },
   "outputs": [
    {
     "data": {
      "text/html": [
       "<div>\n",
       "<style scoped>\n",
       "    .dataframe tbody tr th:only-of-type {\n",
       "        vertical-align: middle;\n",
       "    }\n",
       "\n",
       "    .dataframe tbody tr th {\n",
       "        vertical-align: top;\n",
       "    }\n",
       "\n",
       "    .dataframe thead th {\n",
       "        text-align: right;\n",
       "    }\n",
       "</style>\n",
       "<table border=\"1\" class=\"dataframe\">\n",
       "  <thead>\n",
       "    <tr style=\"text-align: right;\">\n",
       "      <th></th>\n",
       "      <th>Momentum</th>\n",
       "      <th>Carry</th>\n",
       "    </tr>\n",
       "  </thead>\n",
       "  <tbody>\n",
       "    <tr>\n",
       "      <th>Momentum</th>\n",
       "      <td>1.000000</td>\n",
       "      <td>0.044201</td>\n",
       "    </tr>\n",
       "    <tr>\n",
       "      <th>Carry</th>\n",
       "      <td>0.044201</td>\n",
       "      <td>1.000000</td>\n",
       "    </tr>\n",
       "  </tbody>\n",
       "</table>\n",
       "</div>"
      ],
      "text/plain": [
       "          Momentum     Carry\n",
       "Momentum  1.000000  0.044201\n",
       "Carry     0.044201  1.000000"
      ]
     },
     "execution_count": 37,
     "metadata": {},
     "output_type": "execute_result"
    }
   ],
   "source": [
    "combo_df.corr()"
   ]
  },
  {
   "cell_type": "code",
   "execution_count": 38,
   "id": "f4ef8a27-34ea-4679-b020-301c35510b14",
   "metadata": {
    "tags": []
   },
   "outputs": [],
   "source": [
    "corr = combo_df.corr().iloc[0,1]"
   ]
  },
  {
   "cell_type": "code",
   "execution_count": 39,
   "id": "7edf57d6-e9d3-42aa-a139-09bf27226b51",
   "metadata": {
    "tags": []
   },
   "outputs": [],
   "source": [
    "w1 = (std_[1]**2 - std_[0]*std_[1]*corr) / (std_[0]**2 + std_[1]**2 - 2*std_[0]*std_[1]*corr)\n",
    "w2 = (std_[0]**2 - std_[0]*std_[1]*corr) / (std_[0]**2 + std_[1]**2 - 2*std_[0]*std_[1]*corr)"
   ]
  },
  {
   "cell_type": "code",
   "execution_count": 40,
   "id": "a57f5be5-90f5-437a-a001-043fa840b26b",
   "metadata": {
    "tags": []
   },
   "outputs": [
    {
     "data": {
      "text/plain": [
       "0.5288546036088082"
      ]
     },
     "execution_count": 40,
     "metadata": {},
     "output_type": "execute_result"
    }
   ],
   "source": [
    "w1"
   ]
  },
  {
   "cell_type": "code",
   "execution_count": 41,
   "id": "c4825b5b-3c67-453d-b3cd-7287cb2cdceb",
   "metadata": {
    "tags": []
   },
   "outputs": [
    {
     "data": {
      "text/plain": [
       "0.4711453963911918"
      ]
     },
     "execution_count": 41,
     "metadata": {},
     "output_type": "execute_result"
    }
   ],
   "source": [
    "w2"
   ]
  },
  {
   "cell_type": "code",
   "execution_count": 42,
   "id": "af3de4d8-a877-4d7a-bda1-57bfb79309ad",
   "metadata": {
    "jupyter": {
     "source_hidden": true
    },
    "tags": []
   },
   "outputs": [
    {
     "name": "stdout",
     "output_type": "stream",
     "text": [
      " Ponderación para cada Estrategia \n",
      " --------------------------------\n",
      "\n",
      " w1 = 0.53 \n",
      " w2 = 0.47\n"
     ]
    }
   ],
   "source": [
    "print(f\" Ponderación para cada Estrategia \\n --------------------------------\\n\")\n",
    "print(f\" w1 = {w1:.2f} \\n w2 = {w2:.2f}\")"
   ]
  },
  {
   "cell_type": "code",
   "execution_count": 43,
   "id": "814f9b18-af3f-4c16-bdf8-6e1224ebe8a7",
   "metadata": {
    "tags": []
   },
   "outputs": [
    {
     "data": {
      "application/json": {
       "Software versions": [
        {
         "module": "Python",
         "version": "3.11.5 64bit [MSC v.1916 64 bit (AMD64)]"
        },
        {
         "module": "IPython",
         "version": "8.15.0"
        },
        {
         "module": "OS",
         "version": "Windows 10 10.0.22621 SP0"
        },
        {
         "module": "pandas",
         "version": "2.0.3"
        },
        {
         "module": "numpy",
         "version": "1.24.3"
        },
        {
         "module": "scipy",
         "version": "1.11.1"
        },
        {
         "module": "matplotlib",
         "version": "3.7.2"
        },
        {
         "module": "yfinance",
         "version": "0.2.31"
        }
       ]
      },
      "text/html": [
       "<table><tr><th>Software</th><th>Version</th></tr><tr><td>Python</td><td>3.11.5 64bit [MSC v.1916 64 bit (AMD64)]</td></tr><tr><td>IPython</td><td>8.15.0</td></tr><tr><td>OS</td><td>Windows 10 10.0.22621 SP0</td></tr><tr><td>pandas</td><td>2.0.3</td></tr><tr><td>numpy</td><td>1.24.3</td></tr><tr><td>scipy</td><td>1.11.1</td></tr><tr><td>matplotlib</td><td>3.7.2</td></tr><tr><td>yfinance</td><td>0.2.31</td></tr><tr><td colspan='2'>Mon Oct 23 12:23:50 2023 Hora est. Pacífico, Sudamérica</td></tr></table>"
      ],
      "text/latex": [
       "\\begin{tabular}{|l|l|}\\hline\n",
       "{\\bf Software} & {\\bf Version} \\\\ \\hline\\hline\n",
       "Python & 3.11.5 64bit [MSC v.1916 64 bit (AMD64)] \\\\ \\hline\n",
       "IPython & 8.15.0 \\\\ \\hline\n",
       "OS & Windows 10 10.0.22621 SP0 \\\\ \\hline\n",
       "pandas & 2.0.3 \\\\ \\hline\n",
       "numpy & 1.24.3 \\\\ \\hline\n",
       "scipy & 1.11.1 \\\\ \\hline\n",
       "matplotlib & 3.7.2 \\\\ \\hline\n",
       "yfinance & 0.2.31 \\\\ \\hline\n",
       "\\hline \\multicolumn{2}{|l|}{Mon Oct 23 12:23:50 2023 Hora est. Pacífico, Sudamérica} \\\\ \\hline\n",
       "\\end{tabular}\n"
      ],
      "text/plain": [
       "Software versions\n",
       "Python 3.11.5 64bit [MSC v.1916 64 bit (AMD64)]\n",
       "IPython 8.15.0\n",
       "OS Windows 10 10.0.22621 SP0\n",
       "pandas 2.0.3\n",
       "numpy 1.24.3\n",
       "scipy 1.11.1\n",
       "matplotlib 3.7.2\n",
       "yfinance 0.2.31\n",
       "Mon Oct 23 12:23:50 2023 Hora est. Pacífico, Sudamérica"
      ]
     },
     "execution_count": 43,
     "metadata": {},
     "output_type": "execute_result"
    }
   ],
   "source": [
    "%load_ext version_information\n",
    "%version_information pandas, numpy, scipy, matplotlib, yfinance"
   ]
  }
 ],
 "metadata": {
  "kernelspec": {
   "display_name": "Python 3 (ipykernel)",
   "language": "python",
   "name": "python3"
  },
  "language_info": {
   "codemirror_mode": {
    "name": "ipython",
    "version": 3
   },
   "file_extension": ".py",
   "mimetype": "text/x-python",
   "name": "python",
   "nbconvert_exporter": "python",
   "pygments_lexer": "ipython3",
   "version": "3.11.5"
  }
 },
 "nbformat": 4,
 "nbformat_minor": 5
}
